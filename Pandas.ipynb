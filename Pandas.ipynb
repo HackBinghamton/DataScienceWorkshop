{
 "cells": [
  {
   "cell_type": "markdown",
   "metadata": {
    "colab_type": "text",
    "id": "OqSPMxD4F_li"
   },
   "source": [
    "# What is Pandas?\n",
    "\n",
    "**Pandas** is a Python libraries which high-performance, easy to use structures and data analysis tools. To dive in further, feel free to check out the [documentation](https://pandas.pydata.org/).\n",
    "\n",
    "\n",
    "## Why are they useful?\n",
    "Pandas provides a 2D table object called **DataFrame**, which is like a spreadsheet with column names and row labels.\n",
    "With these 2D tables, Pandas is capable of functionality like creating pivot tables, computing columns based on other columns, and plotting graphs.\n"
   ]
  },
  {
   "cell_type": "markdown",
   "metadata": {
    "colab_type": "text",
    "id": "ifE6QK9bj-uQ"
   },
   "source": [
    "## Importing \n",
    "\n",
    "Pandas can be imported into Python using:"
   ]
  },
  {
   "cell_type": "code",
   "execution_count": null,
   "metadata": {
    "colab": {},
    "colab_type": "code",
    "id": "WYfo8AYFF_lm"
   },
   "outputs": [],
   "source": [
    "import pandas as pd"
   ]
  },
  {
   "cell_type": "markdown",
   "metadata": {
    "colab_type": "text",
    "id": "FGWM1zpNkFwd"
   },
   "source": [
    "## Objects\n",
    "\n",
    "#### ***Series*** objects\n",
    "* 1D array, similar to a column in a spreadsheet\n",
    "\n",
    "Pandas Series object is created with the *pd.Series* function. Each row is provided with an index and are assigned numerical values starting from 0. Like NumPy, Pandas also provide the basic mathematical functionalities like addition, subtraction and conditional operations and broadcasting.\n"
   ]
  },
  {
   "cell_type": "code",
   "execution_count": null,
   "metadata": {
    "colab": {
     "base_uri": "https://localhost:8080/",
     "height": 85
    },
    "colab_type": "code",
    "id": "YynWXZzArdMT",
    "outputId": "087a629a-ba6e-4df4-d9c7-a27f75b78673"
   },
   "outputs": [],
   "source": [
    "import pandas as pd\n",
    "\n",
    "year_series = pd.Series([1984, 1985, 1992],\n",
    "                   index=[\"barbara\", \"alice\", \"charles\"],\n",
    "                   name=\"year\")\n",
    "year_series"
   ]
  },
  {
   "cell_type": "markdown",
   "metadata": {
    "colab_type": "text",
    "id": "fRJYWw2Vne_r"
   },
   "source": [
    "#### ***DataFrame*** objects\n",
    "* 2D table, similar to a spreadsheet\n",
    "\n",
    "Pandas DataFrame object represents a spreadsheet with cell values, column names, and row index labels. DataFrame can be visualized as dictionaries of Series. Pandas also provide SQL-like functionality to filter, sort rows based on conditions."
   ]
  },
  {
   "cell_type": "markdown",
   "metadata": {
    "colab_type": "text",
    "id": "Ql9VMGmsohZO"
   },
   "source": [
    "Here is an example of a dictionary of Series objects used to create a DataFrame object and display as a spreadsheet:"
   ]
  },
  {
   "cell_type": "code",
   "execution_count": null,
   "metadata": {
    "colab": {
     "base_uri": "https://localhost:8080/",
     "height": 142
    },
    "colab_type": "code",
    "id": "mVoaszO5nqaZ",
    "outputId": "72e9c4c6-731a-43bf-96bd-a5d33211e1b2"
   },
   "outputs": [],
   "source": [
    "import pandas as pd\n",
    "\n",
    "people_dict = { \"weight\": pd.Series([68, 83, 112],\n",
    "                                    index=[\"alice\", \"barbara\", \"charles\"]),\n",
    "               \"birthyear\": pd.Series([1984, 1985, 1992],\n",
    "                                      index=[\"barbara\", \"alice\", \"charles\"],\n",
    "                                      name=\"year\"),\n",
    "               \"children\": pd.Series([0, 3],\n",
    "                                     index=[\"charles\", \"barbara\"]),\n",
    "               \"hobby\": pd.Series([\"Biking\", \"Dancing\"],\n",
    "                                  index=[\"alice\", \"barbara\"]),}\n",
    "\n",
    "\n",
    "people = pd.DataFrame(people_dict)\n",
    "people\n",
    "\n",
    "\n",
    "# we can un-comment this line to filter the DataFrame to only display people\n",
    "# who were born before 1990\n",
    "\n",
    "# people[people[\"birthyear\"] < 1990]"
   ]
  },
  {
   "cell_type": "markdown",
   "metadata": {
    "colab_type": "text",
    "id": "1npjYQncni9C"
   },
   "source": [
    "DataFrames can be sorted by a particular column and have new rows and columns added to it.\n",
    "Dataframes can also be easily exported and imported from CSV, Excel, JSON, HTML and SQL database.\n",
    "\n",
    "Some other essential methods that are present in dataframes are:\n",
    "\n",
    "* ***head()***: returns the top 5 rows in the dataframe object\n",
    "* ***tail()***: returns the bottom 5 rows in the dataframe\n",
    "* ***info()***: prints the summary of the dataframe\n",
    "* ***describe()***: gives a nice overview of the main aggregated values over each column"
   ]
  },
  {
   "cell_type": "markdown",
   "metadata": {
    "colab_type": "text",
    "id": "9mVHL8Ekw1fl"
   },
   "source": [
    "## Afterward\n",
    "\n",
    "Pandas DataFrames makes importing and analyzing data much easier, to assist with data analysis."
   ]
  }
 ],
 "metadata": {
  "colab": {
   "name": "Pandas.ipynb",
   "provenance": [],
   "version": "0.3.2"
  },
  "kernelspec": {
   "display_name": "Python 3",
   "language": "python",
   "name": "python3"
  },
  "language_info": {
   "codemirror_mode": {
    "name": "ipython",
    "version": 3
   },
   "file_extension": ".py",
   "mimetype": "text/x-python",
   "name": "python",
   "nbconvert_exporter": "python",
   "pygments_lexer": "ipython3",
   "version": "3.6.2"
  }
 },
 "nbformat": 4,
 "nbformat_minor": 1
}
