{
  "nbformat": 4,
  "nbformat_minor": 0,
  "metadata": {
    "colab": {
      "name": "Pandas.ipynb",
      "version": "0.3.2",
      "provenance": []
    },
    "kernelspec": {
      "display_name": "Python 3",
      "language": "python",
      "name": "python3"
    },
    "language_info": {
      "codemirror_mode": {
        "name": "ipython",
        "version": 3
      },
      "file_extension": ".py",
      "mimetype": "text/x-python",
      "name": "python",
      "nbconvert_exporter": "python",
      "pygments_lexer": "ipython3",
      "version": "3.6.2"
    }
  },
  "cells": [
    {
      "cell_type": "markdown",
      "metadata": {
        "colab_type": "text",
        "id": "YZN1_U7NF_lg"
      },
      "source": [
        "Pandas"
      ]
    },
    {
      "cell_type": "markdown",
      "metadata": {
        "colab_type": "text",
        "id": "OqSPMxD4F_li"
      },
      "source": [
        "# What is Pandas?\n",
        "\n",
        "**Pandas** is a Python libraries which high-performance, easy to use structures and data analysis tools.\n",
        "\n",
        "\n",
        "## Why are they useful?\n",
        "Pandas provides a 2D table object called **DataFrame**, which is like a spreadsheet with column names and row labels.\n",
        "With these 2D tables, Pandas is capable of functionality like creating pivot tables, computing columns based on other columns, and plotting graphs.\n"
      ]
    },
    {
      "cell_type": "markdown",
      "metadata": {
        "id": "ifE6QK9bj-uQ",
        "colab_type": "text"
      },
      "source": [
        "## Importing \n",
        "\n",
        "Pandas can be imported into Python using:"
      ]
    },
    {
      "cell_type": "code",
      "metadata": {
        "colab_type": "code",
        "id": "WYfo8AYFF_lm",
        "colab": {}
      },
      "source": [
        "import pandas as pd"
      ],
      "execution_count": 0,
      "outputs": []
    },
    {
      "cell_type": "markdown",
      "metadata": {
        "id": "FGWM1zpNkFwd",
        "colab_type": "text"
      },
      "source": [
        "## Objects\n",
        "\n",
        "#### ***Series*** objects\n",
        "* 1D array, similar to a column in a spreadsheet\n",
        "\n",
        "Pandas Series object is created with the *pd.Series* function. Each row is provided with an index and are assigned numerical values starting from 0. Like NumPy, Pandas also provide the basic mathematical functionalities like addition, subtraction and conditional operations and broadcasting.\n"
      ]
    },
    {
      "cell_type": "code",
      "metadata": {
        "id": "YynWXZzArdMT",
        "colab_type": "code",
        "colab": {
          "base_uri": "https://localhost:8080/",
          "height": 85
        },
        "outputId": "087a629a-ba6e-4df4-d9c7-a27f75b78673"
      },
      "source": [
        "import pandas as pd\n",
        "\n",
        "year_series = pd.Series([1984, 1985, 1992],\n",
        "                   index=[\"barbara\", \"alice\", \"charles\"],\n",
        "                   name=\"year\")\n",
        "year_series"
      ],
      "execution_count": 44,
      "outputs": [
        {
          "output_type": "execute_result",
          "data": {
            "text/plain": [
              "barbara    1984\n",
              "alice      1985\n",
              "charles    1992\n",
              "Name: year, dtype: int64"
            ]
          },
          "metadata": {
            "tags": []
          },
          "execution_count": 44
        }
      ]
    },
    {
      "cell_type": "markdown",
      "metadata": {
        "id": "fRJYWw2Vne_r",
        "colab_type": "text"
      },
      "source": [
        "#### ***DataFrame*** objects\n",
        "* 2D table, similar to a spreadsheet\n",
        "\n",
        "Pandas DataFrame object represents a spreadsheet with cell values, column names, and row index labels. DataFrame can be visualized as dictionaries of Series. Pandas also provide SQL-like functionality to filter, sort rows based on conditions."
      ]
    },
    {
      "cell_type": "markdown",
      "metadata": {
        "id": "Ql9VMGmsohZO",
        "colab_type": "text"
      },
      "source": [
        "Here is an example of a dictionary of Series objects used to create a DataFrame object and display as a spreadsheet:"
      ]
    },
    {
      "cell_type": "code",
      "metadata": {
        "id": "mVoaszO5nqaZ",
        "colab_type": "code",
        "colab": {
          "base_uri": "https://localhost:8080/",
          "height": 142
        },
        "outputId": "72e9c4c6-731a-43bf-96bd-a5d33211e1b2"
      },
      "source": [
        "import pandas as pd\n",
        "\n",
        "people_dict = { \"weight\": pd.Series([68, 83, 112],\n",
        "                                    index=[\"alice\", \"barbara\", \"charles\"]),\n",
        "               \"birthyear\": pd.Series([1984, 1985, 1992],\n",
        "                                      index=[\"barbara\", \"alice\", \"charles\"],\n",
        "                                      name=\"year\"),\n",
        "               \"children\": pd.Series([0, 3],\n",
        "                                     index=[\"charles\", \"barbara\"]),\n",
        "               \"hobby\": pd.Series([\"Biking\", \"Dancing\"],\n",
        "                                  index=[\"alice\", \"barbara\"]),}\n",
        "\n",
        "\n",
        "people = pd.DataFrame(people_dict)\n",
        "people\n",
        "\n",
        "\n",
        "# we can un-comment this line to filter the DataFrame to only display people\n",
        "# who were born before 1990\n",
        "\n",
        "# people[people[\"birthyear\"] < 1990]"
      ],
      "execution_count": 40,
      "outputs": [
        {
          "output_type": "execute_result",
          "data": {
            "text/html": [
              "<div>\n",
              "<style scoped>\n",
              "    .dataframe tbody tr th:only-of-type {\n",
              "        vertical-align: middle;\n",
              "    }\n",
              "\n",
              "    .dataframe tbody tr th {\n",
              "        vertical-align: top;\n",
              "    }\n",
              "\n",
              "    .dataframe thead th {\n",
              "        text-align: right;\n",
              "    }\n",
              "</style>\n",
              "<table border=\"1\" class=\"dataframe\">\n",
              "  <thead>\n",
              "    <tr style=\"text-align: right;\">\n",
              "      <th></th>\n",
              "      <th>weight</th>\n",
              "      <th>birthyear</th>\n",
              "      <th>children</th>\n",
              "      <th>hobby</th>\n",
              "    </tr>\n",
              "  </thead>\n",
              "  <tbody>\n",
              "    <tr>\n",
              "      <th>alice</th>\n",
              "      <td>68</td>\n",
              "      <td>1985</td>\n",
              "      <td>NaN</td>\n",
              "      <td>Biking</td>\n",
              "    </tr>\n",
              "    <tr>\n",
              "      <th>barbara</th>\n",
              "      <td>83</td>\n",
              "      <td>1984</td>\n",
              "      <td>3.0</td>\n",
              "      <td>Dancing</td>\n",
              "    </tr>\n",
              "    <tr>\n",
              "      <th>charles</th>\n",
              "      <td>112</td>\n",
              "      <td>1992</td>\n",
              "      <td>0.0</td>\n",
              "      <td>NaN</td>\n",
              "    </tr>\n",
              "  </tbody>\n",
              "</table>\n",
              "</div>"
            ],
            "text/plain": [
              "         weight  birthyear  children    hobby\n",
              "alice        68       1985       NaN   Biking\n",
              "barbara      83       1984       3.0  Dancing\n",
              "charles     112       1992       0.0      NaN"
            ]
          },
          "metadata": {
            "tags": []
          },
          "execution_count": 40
        }
      ]
    },
    {
      "cell_type": "markdown",
      "metadata": {
        "id": "1npjYQncni9C",
        "colab_type": "text"
      },
      "source": [
        "DataFrames can be sorted by a particular column and have new rows and columns added to it.\n",
        "Dataframes can also be easily exported and imported from CSV, Excel, JSON, HTML and SQL database.\n",
        "\n",
        "Some other essential methods that are present in dataframes are:\n",
        "\n",
        "* ***head()***: returns the top 5 rows in the dataframe object\n",
        "* ***tail()***: returns the bottom 5 rows in the dataframe\n",
        "* ***info()***: prints the summary of the dataframe\n",
        "* ***describe()***: gives a nice overview of the main aggregated values over each column"
      ]
    },
    {
      "cell_type": "markdown",
      "metadata": {
        "id": "9mVHL8Ekw1fl",
        "colab_type": "text"
      },
      "source": [
        "## Afterward\n",
        "\n",
        "Pandas DataFrames makes importing and analyzing data much easier, to assist with data analysis."
      ]
    }
  ]
}
