{
 "cells": [
  {
   "cell_type": "markdown",
   "metadata": {},
   "source": [
    "# Plotly Python Graphing Library\n",
    "\n",
    "Hello Hackers! Today we'll be going over some of the basics on how to use Plotly, an open source Python graphing library. Designed for statistical, financial, geographic, scientific, and 3-dimensional use-cases, Plotly allows you to make extremely elaborate and professional charts. \n",
    "\n",
    "If you've never worked in Python before or haven't touched the language in a while, we'd recommend you scroll through the beginner section of our [Python workshop](https://github.com/HackBinghamton/PythonWorkshop) as a refresher before beginning this section of the workshop.\n"
   ]
  },
  {
   "cell_type": "code",
   "execution_count": null,
   "metadata": {},
   "outputs": [],
   "source": []
  }
 ],
 "metadata": {
  "kernelspec": {
   "display_name": "Python 3",
   "language": "python",
   "name": "python3"
  },
  "language_info": {
   "codemirror_mode": {
    "name": "ipython",
    "version": 3
   },
   "file_extension": ".py",
   "mimetype": "text/x-python",
   "name": "python",
   "nbconvert_exporter": "python",
   "pygments_lexer": "ipython3",
   "version": "3.7.3"
  }
 },
 "nbformat": 4,
 "nbformat_minor": 2
}
