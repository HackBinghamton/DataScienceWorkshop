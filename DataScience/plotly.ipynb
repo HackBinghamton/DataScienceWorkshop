{
 "cells": [
  {
   "cell_type": "markdown",
   "metadata": {},
   "source": [
    "# Plotly Python Graphing Library\n",
    "\n",
    "Hello Hackers! Today we'll be going over some of the basics on how to use Plotly, an open source Python graphing library. Designed for statistical, financial, geographic, scientific, and 3-dimensional use-cases, Plotly allows you to make extremely elaborate and professional charts. \n",
    "\n",
    "If you've never worked in Python before or haven't touched the language in a while, we'd recommend you scroll through the beginner section of our [Python workshop](https://github.com/HackBinghamton/PythonWorkshop) as a refresher before beginning this section of the workshop.\n"
   ]
  },
  {
   "cell_type": "markdown",
   "metadata": {},
   "source": [
    "## Figure Rendering\n",
    "\n",
    "Over the course of this tutorial, we will be allowing figures to render automatically via Jupyter. Displaying your Plotly figures in a webapp or script may require additional configuration. While we will not be discussing renderers in greater detail today, you can learn more in [Plotly's documentation.](https://plot.ly/python/renderers/#overriding-the-default-renderer)"
   ]
  },
  {
   "cell_type": "markdown",
   "metadata": {},
   "source": [
    "## Representing Data\n",
    "\n",
    "Plotly is designed to interpret your data when stored in the form of a dictionary or a graph.\n",
    "\n",
    "### Dictionary Method\n",
    "\n",
    "When storing our data as a dictionary, we need the key \"type\" pointed to one of Plotly's 40 chart methods. In this example, we are using a bar graph, so we also need the keys \"x\" and \"y\" to hold the data displayed in our bar graph. After adding our data to the dictionary, we can render the chart using the `.show()` function."
   ]
  },
  {
   "cell_type": "code",
   "execution_count": null,
   "metadata": {},
   "outputs": [],
   "source": [
    "# RUN ME\n",
    "!pip3 install plotly"
   ]
  },
  {
   "cell_type": "code",
   "execution_count": null,
   "metadata": {
    "scrolled": false
   },
   "outputs": [],
   "source": [
    "import plotly.io as pio\n",
    "dict_example = {\n",
    "    \"data\": [{\"type\": \"bar\",\n",
    "              \"x\": [1, 2, 3, 4],\n",
    "              \"y\": [2, 1, 4, 3]}],\n",
    "}\n",
    "pio.show(dict_example)"
   ]
  },
  {
   "cell_type": "markdown",
   "metadata": {},
   "source": [
    "### Graph Method\n",
    "\n",
    "Providing a more condensed format, the Plotly Graph Objects Library's functionality mirrors that of dictionary form. The same chart as above has been provided below in graph form as an example. "
   ]
  },
  {
   "cell_type": "code",
   "execution_count": null,
   "metadata": {},
   "outputs": [],
   "source": [
    "import plotly.graph_objects as go\n",
    "graph_example = go.Figure(\n",
    "    data=[go.Bar(x=[1, 2, 3, 4], y=[2, 1, 4, 3])],\n",
    ")\n",
    "graph_example.show()"
   ]
  },
  {
   "cell_type": "markdown",
   "metadata": {},
   "source": [
    "## Specific Chart Types\n",
    "\n",
    "Each type of chart Plotly interfaces with has specific information pages to show you the different variables the chart can take, with accompanying example code. The following box plot example was taken directly from Plotly's Documentation.\n",
    "You can access these chart pages from [here](https://plot.ly/python/)."
   ]
  },
  {
   "cell_type": "code",
   "execution_count": null,
   "metadata": {},
   "outputs": [],
   "source": [
    "import plotly.graph_objects as go\n",
    "\n",
    "x = ['day 1', 'day 1', 'day 1', 'day 1', 'day 1', 'day 1',\n",
    "     'day 2', 'day 2', 'day 2', 'day 2', 'day 2', 'day 2']\n",
    "\n",
    "fig = go.Figure()\n",
    "\n",
    "fig.add_trace(go.Box(\n",
    "    y=[0.2, 0.2, 0.6, 1.0, 0.5, 0.4, 0.2, 0.7, 0.9, 0.1, 0.5, 0.3],\n",
    "    x=x,\n",
    "    name='kale',\n",
    "    marker_color='#3D9970'\n",
    "))\n",
    "fig.add_trace(go.Box(\n",
    "    y=[0.6, 0.7, 0.3, 0.6, 0.0, 0.5, 0.7, 0.9, 0.5, 0.8, 0.7, 0.2],\n",
    "    x=x,\n",
    "    name='radishes',\n",
    "    marker_color='#FF4136'\n",
    "))\n",
    "fig.add_trace(go.Box(\n",
    "    y=[0.1, 0.3, 0.1, 0.9, 0.6, 0.6, 0.9, 1.0, 0.3, 0.6, 0.8, 0.5],\n",
    "    x=x,\n",
    "    name='carrots',\n",
    "    marker_color='#FF851B'\n",
    "))\n",
    "\n",
    "fig.update_layout(\n",
    "    yaxis_title='normalized moisture',\n",
    "    boxmode='group' # group together boxes of the different traces for each value of x\n",
    ")\n",
    "\n",
    "fig.show()\n"
   ]
  },
  {
   "cell_type": "markdown",
   "metadata": {},
   "source": [
    "Each type of chart will have slightly different layout parameters for the title and axes. If you're creating custom labels of any type, check the documentation for the specific chart type you're working with."
   ]
  },
  {
   "cell_type": "code",
   "execution_count": null,
   "metadata": {},
   "outputs": [],
   "source": []
  }
 ],
 "metadata": {
  "kernelspec": {
   "display_name": "Python 3",
   "language": "python",
   "name": "python3"
  },
  "language_info": {
   "codemirror_mode": {
    "name": "ipython",
    "version": 3
   },
   "file_extension": ".py",
   "mimetype": "text/x-python",
   "name": "python",
   "nbconvert_exporter": "python",
   "pygments_lexer": "ipython3",
   "version": "3.8.5"
  }
 },
 "nbformat": 4,
 "nbformat_minor": 2
}
