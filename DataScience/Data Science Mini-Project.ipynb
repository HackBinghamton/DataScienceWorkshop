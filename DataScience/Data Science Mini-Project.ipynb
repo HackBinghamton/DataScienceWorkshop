{
 "cells": [
  {
   "cell_type": "markdown",
   "metadata": {},
   "source": [
    "# Data Science Mini-Project"
   ]
  },
  {
   "cell_type": "markdown",
   "metadata": {},
   "source": [
    "Given the information from the previous sections, you should be equipped to read data into Pandas dataframes. Dataframes allow us to analyze and interpret large amounts of data. For this mini-project, we'll be looking at data from a website called kaggle.com. \n",
    "\n",
    "Kaggle is an awesome resource for all things data science, as they host public datasets, competitions, and tutorials. Their competitions tend to deal with solving real-world problems, for example, last year they ran a competition for determining ways to deal with Los Angeles' hiring crisis as their workforce retires (https://www.kaggle.com/c/data-science-for-good-city-of-los-angeles), and one for using news to predict stock prices (https://www.kaggle.com/c/two-sigma-financial-news).\n",
    "\n",
    "**For today's mini-project, we are going to look at a dataset fom Kaggle, and using Pandas to structure, visualize, and interpret it.**\n",
    "\n",
    "Because we want to recognize that not everyone will be interested in the same topics, we want to leave this project open-ended. In this example, we'll take a look at a CSV file pertaining to the success of different climbing routes on Mount Rainier, but, if this sounds boring or unappealing, we encourage you to search around and find a different dataset. \n",
    "\n",
    "## Our Goal\n",
    "\n",
    "Our goal is to look at the data from previous Mt Rainier climbs, and use it to **determine which route is the safest**. While this may sound trivial, we should note that the data is separated by year. So, one route may have had a 100% success rate one year, despite not being the safest. \n",
    "\n",
    "## Getting Started\n",
    "\n",
    "The data files should be available in the Github repo, and we'll do the work of importing them for you below. For our mini-project, we'll only be looking at the climbing statistics for the base project, and the weather data for the bonus. Our first step will be to load the data in from the CSV, into a dataframe. \n",
    "\n",
    "### Setup\n",
    "\n",
    "***Please make sure to run the following blocks to install requirements and import your data!***"
   ]
  },
  {
   "cell_type": "code",
   "execution_count": 4,
   "metadata": {},
   "outputs": [
    {
     "name": "stdout",
     "output_type": "stream",
     "text": [
      "Defaulting to user installation because normal site-packages is not writeable\n",
      "Requirement already satisfied: pandas in /home/lambda/.local/lib/python3.8/site-packages (1.1.3)\n",
      "Requirement already satisfied: python-dateutil>=2.7.3 in /usr/lib/python3/dist-packages (from pandas) (2.7.3)\n",
      "Requirement already satisfied: numpy>=1.15.4 in /usr/lib/python3/dist-packages (from pandas) (1.17.4)\n",
      "Requirement already satisfied: pytz>=2017.2 in /usr/lib/python3/dist-packages (from pandas) (2019.3)\n",
      "Defaulting to user installation because normal site-packages is not writeable\n",
      "Requirement already satisfied: numpy in /usr/lib/python3/dist-packages (1.17.4)\n",
      "Defaulting to user installation because normal site-packages is not writeable\n",
      "Requirement already satisfied: requests in /usr/lib/python3/dist-packages (2.22.0)\n"
     ]
    }
   ],
   "source": [
    "# Installing requirements\n",
    "!pip install pandas\n",
    "!pip install numpy\n",
    "!pip install requests"
   ]
  },
  {
   "cell_type": "code",
   "execution_count": 5,
   "metadata": {},
   "outputs": [
    {
     "data": {
      "text/html": [
       "<div>\n",
       "<style scoped>\n",
       "    .dataframe tbody tr th:only-of-type {\n",
       "        vertical-align: middle;\n",
       "    }\n",
       "\n",
       "    .dataframe tbody tr th {\n",
       "        vertical-align: top;\n",
       "    }\n",
       "\n",
       "    .dataframe thead th {\n",
       "        text-align: right;\n",
       "    }\n",
       "</style>\n",
       "<table border=\"1\" class=\"dataframe\">\n",
       "  <thead>\n",
       "    <tr style=\"text-align: right;\">\n",
       "      <th></th>\n",
       "      <th>Date</th>\n",
       "      <th>Route</th>\n",
       "      <th>Attempted</th>\n",
       "      <th>Succeeded</th>\n",
       "      <th>Success Percentage</th>\n",
       "    </tr>\n",
       "  </thead>\n",
       "  <tbody>\n",
       "    <tr>\n",
       "      <th>0</th>\n",
       "      <td>11/27/2015</td>\n",
       "      <td>Disappointment Cleaver</td>\n",
       "      <td>2</td>\n",
       "      <td>0</td>\n",
       "      <td>0.000000</td>\n",
       "    </tr>\n",
       "    <tr>\n",
       "      <th>1</th>\n",
       "      <td>11/21/2015</td>\n",
       "      <td>Disappointment Cleaver</td>\n",
       "      <td>3</td>\n",
       "      <td>0</td>\n",
       "      <td>0.000000</td>\n",
       "    </tr>\n",
       "    <tr>\n",
       "      <th>2</th>\n",
       "      <td>10/15/2015</td>\n",
       "      <td>Disappointment Cleaver</td>\n",
       "      <td>2</td>\n",
       "      <td>0</td>\n",
       "      <td>0.000000</td>\n",
       "    </tr>\n",
       "    <tr>\n",
       "      <th>3</th>\n",
       "      <td>10/13/2015</td>\n",
       "      <td>Little Tahoma</td>\n",
       "      <td>8</td>\n",
       "      <td>0</td>\n",
       "      <td>0.000000</td>\n",
       "    </tr>\n",
       "    <tr>\n",
       "      <th>4</th>\n",
       "      <td>10/9/2015</td>\n",
       "      <td>Disappointment Cleaver</td>\n",
       "      <td>2</td>\n",
       "      <td>0</td>\n",
       "      <td>0.000000</td>\n",
       "    </tr>\n",
       "    <tr>\n",
       "      <th>...</th>\n",
       "      <td>...</td>\n",
       "      <td>...</td>\n",
       "      <td>...</td>\n",
       "      <td>...</td>\n",
       "      <td>...</td>\n",
       "    </tr>\n",
       "    <tr>\n",
       "      <th>4072</th>\n",
       "      <td>1/16/2014</td>\n",
       "      <td>Little Tahoma</td>\n",
       "      <td>2</td>\n",
       "      <td>0</td>\n",
       "      <td>0.000000</td>\n",
       "    </tr>\n",
       "    <tr>\n",
       "      <th>4073</th>\n",
       "      <td>1/6/2014</td>\n",
       "      <td>Disappointment Cleaver</td>\n",
       "      <td>8</td>\n",
       "      <td>0</td>\n",
       "      <td>0.000000</td>\n",
       "    </tr>\n",
       "    <tr>\n",
       "      <th>4074</th>\n",
       "      <td>1/6/2014</td>\n",
       "      <td>Disappointment Cleaver</td>\n",
       "      <td>8</td>\n",
       "      <td>0</td>\n",
       "      <td>0.000000</td>\n",
       "    </tr>\n",
       "    <tr>\n",
       "      <th>4075</th>\n",
       "      <td>1/5/2014</td>\n",
       "      <td>Disappointment Cleaver</td>\n",
       "      <td>2</td>\n",
       "      <td>0</td>\n",
       "      <td>0.000000</td>\n",
       "    </tr>\n",
       "    <tr>\n",
       "      <th>4076</th>\n",
       "      <td>1/4/2014</td>\n",
       "      <td>Gibralter Ledges</td>\n",
       "      <td>3</td>\n",
       "      <td>2</td>\n",
       "      <td>0.666667</td>\n",
       "    </tr>\n",
       "  </tbody>\n",
       "</table>\n",
       "<p>4077 rows × 5 columns</p>\n",
       "</div>"
      ],
      "text/plain": [
       "            Date                   Route  Attempted  Succeeded  \\\n",
       "0     11/27/2015  Disappointment Cleaver          2          0   \n",
       "1     11/21/2015  Disappointment Cleaver          3          0   \n",
       "2     10/15/2015  Disappointment Cleaver          2          0   \n",
       "3     10/13/2015           Little Tahoma          8          0   \n",
       "4      10/9/2015  Disappointment Cleaver          2          0   \n",
       "...          ...                     ...        ...        ...   \n",
       "4072   1/16/2014           Little Tahoma          2          0   \n",
       "4073    1/6/2014  Disappointment Cleaver          8          0   \n",
       "4074    1/6/2014  Disappointment Cleaver          8          0   \n",
       "4075    1/5/2014  Disappointment Cleaver          2          0   \n",
       "4076    1/4/2014        Gibralter Ledges          3          2   \n",
       "\n",
       "      Success Percentage  \n",
       "0               0.000000  \n",
       "1               0.000000  \n",
       "2               0.000000  \n",
       "3               0.000000  \n",
       "4               0.000000  \n",
       "...                  ...  \n",
       "4072            0.000000  \n",
       "4073            0.000000  \n",
       "4074            0.000000  \n",
       "4075            0.000000  \n",
       "4076            0.666667  \n",
       "\n",
       "[4077 rows x 5 columns]"
      ]
     },
     "execution_count": 5,
     "metadata": {},
     "output_type": "execute_result"
    }
   ],
   "source": [
    "import pandas as pd\n",
    "import numpy as np\n",
    "import requests\n",
    "\n",
    "# Fetch data from GitHub\n",
    "url = \"https://raw.githubusercontent.com/HackBinghamton/DataScienceWorkshop/master/DataScience/climbing_statistics.csv\"\n",
    "raw_data = requests.get(url).text\n",
    "\n",
    "# Write it to a local file\n",
    "with open(\"climbing_statistics.csv\", \"w\") as data_file:\n",
    "    data_file.write(raw_data)\n",
    "\n",
    "# Read it into a dataframe\n",
    "dataframe = pd.read_csv('climbing_statistics.csv')\n",
    "dataframe"
   ]
  },
  {
   "cell_type": "markdown",
   "metadata": {},
   "source": [
    "### Challenge Questions\n",
    "\n",
    "Here's some information that we can ascertain fairly easily with numpy/pandas. Can you figure out how to determine: \n",
    "\n",
    "1. How many possible routes are there?\n",
    "2. How much time has elapsed between the first and last recorded climb attempts?\n",
    "3. During what year were there the most climb attempts?\n",
    "\n",
    "Here's a code box for you to work in:"
   ]
  },
  {
   "cell_type": "code",
   "execution_count": null,
   "metadata": {},
   "outputs": [],
   "source": [
    "# Your code here!"
   ]
  },
  {
   "cell_type": "markdown",
   "metadata": {},
   "source": [
    "*Hint:* Look into .filter(), .groupBy(), and regex\n",
    "\n",
    "*Hint 2:* There's a function called DatetimeIndex in pandas that could be useful\n",
    "\n",
    "\n",
    "### Partial Solution\n",
    "\n",
    "Hopefully you were able to answer the above questions, if not, here's a code snippet to answer question 3."
   ]
  },
  {
   "cell_type": "code",
   "execution_count": null,
   "metadata": {},
   "outputs": [],
   "source": [
    "# Gets year with the most climb attempts\n",
    "dataframe['Year'] = pd.DatetimeIndex(dataframe['Date']).year\n",
    "groups = dataframe.groupby(['Year'])['Attempted'].agg('sum')\n",
    "print(groups)"
   ]
  },
  {
   "cell_type": "markdown",
   "metadata": {},
   "source": [
    "## Safest Route Project\n",
    "So, we want to aggregate the number of successes / attempts for each result to determine which is the safest. We'll need to use many of the functions we used above in the Challenge section. Because we walked through the previous problems together, we won't attach the code to solve this problem. However, HackBU organizers will be happy to help out if you're struggling.\n",
    "\n",
    "Here are some steps that should point you in the right direction:\n",
    "\n",
    "1. Split the data into N separate routes.\n",
    "2. Sum the number of attempts for each route.\n",
    "3. Sum the number of successes for each route.\n",
    "4. Divide the number of attempts by the number of successes for each.\n",
    "5. Find the highest value from step 4.\n",
    "\n",
    "*Hint:* Steps 2 and 3 can be consolidated into one. Can any other steps be consolidated too?"
   ]
  },
  {
   "cell_type": "code",
   "execution_count": null,
   "metadata": {},
   "outputs": [],
   "source": [
    "# Your code here!\n",
    "\n",
    "\n",
    "\n",
    "\n",
    "\n"
   ]
  },
  {
   "cell_type": "markdown",
   "metadata": {},
   "source": [
    "## Result\n",
    "\n",
    "If you've successfully found the safest route, you should have determined that the safest route is one of the above:\n",
    "<br><br><br>\n",
    "A. Ptarmigan RIngraham Directge <br>\n",
    "B. Gibralter Ledges<br>\n",
    "C. Wilson Headwall<br>\n",
    "D. Tahoma Cleaver<br>"
   ]
  },
  {
   "cell_type": "markdown",
   "metadata": {},
   "source": [
    "## Correct Answer, Bonus, and Next Steps\n",
    "\n",
    "<br>\n",
    "<br>\n",
    "<br>\n",
    "<br>\n",
    "<br>\n",
    "<br>\n",
    "<br>\n",
    "<br>\n",
    "\n",
    "The correct answer is Tahoma Cleaver, with a success rate of 100%. It's important to note that we didn't control\n",
    "for the number of attempts, so this could have impacted our results. Is there any way that we could control for attempts, \n",
    "say, to only look at routes that have been attempted at least ~50 times?\n",
    "\n",
    "### Bonus\n",
    "\n",
    "Controlling for any variables that may have impacted our findings is extremely important. That's why determining whether\n",
    "or not the weather conditions at a certain time may have affected our results. Using the weather data CSV file, how can \n",
    "we adjust or confirm our results such that they haven't been affected by varying weather conditions?"
   ]
  },
  {
   "cell_type": "code",
   "execution_count": null,
   "metadata": {},
   "outputs": [],
   "source": []
  }
 ],
 "metadata": {
  "kernelspec": {
   "display_name": "Python 3",
   "language": "python",
   "name": "python3"
  },
  "language_info": {
   "codemirror_mode": {
    "name": "ipython",
    "version": 3
   },
   "file_extension": ".py",
   "mimetype": "text/x-python",
   "name": "python",
   "nbconvert_exporter": "python",
   "pygments_lexer": "ipython3",
   "version": "3.8.5"
  }
 },
 "nbformat": 4,
 "nbformat_minor": 2
}
