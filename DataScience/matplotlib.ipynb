{
  "nbformat": 4,
  "nbformat_minor": 0,
  "metadata": {
    "kernelspec": {
      "display_name": "Python 3",
      "language": "python",
      "name": "python3"
    },
    "language_info": {
      "codemirror_mode": {
        "name": "ipython",
        "version": 3
      },
      "file_extension": ".py",
      "mimetype": "text/x-python",
      "name": "python",
      "nbconvert_exporter": "python",
      "pygments_lexer": "ipython3",
      "version": "3.6.8"
    },
    "colab": {
      "name": "matplotlib.ipynb",
      "provenance": []
    }
  },
  "cells": [
    {
      "cell_type": "markdown",
      "metadata": {
        "id": "-88JVOVIS9Vf",
        "colab_type": "text"
      },
      "source": [
        "# Matplotlib\n",
        "## Overview\n",
        "### Introduction\n",
        "Matplotlib is a Python library for visualizing one-dimensional data, such as Python lists, and two-dimensional data, such as CSV files or Excel sheets. \n",
        "\n",
        "### What you'll learn\n",
        "In this section, you'll learn\n",
        "\n",
        "\n",
        "1.   The matplotlib object hierarchy and examples of matplotlib objects.\n",
        "2.   How to create and manipulate a subplot.\n",
        "\n",
        "\n",
        "\n",
        "### Prerequisites\n",
        "Before starting this section, you should have an understanding of\n",
        "\n",
        "\n",
        "1.   Python\n",
        "\n",
        "\n",
        "\n",
        "### Setup\n",
        "Run the code block below to set up your environment for this activity."
      ]
    },
    {
      "cell_type": "code",
      "metadata": {
        "id": "OwzXc_vDS9Vg",
        "colab_type": "code",
        "colab": {}
      },
      "source": [
        "# RUN ME\n",
        "!pip3 install matplotlib"
      ],
      "execution_count": 0,
      "outputs": []
    },
    {
      "cell_type": "markdown",
      "metadata": {
        "id": "i8zQCBFMS9Vj",
        "colab_type": "text"
      },
      "source": [
        "## Getting Started with Matplotlib"
      ]
    },
    {
      "cell_type": "markdown",
      "metadata": {
        "id": "PNC7c5TbS9Vk",
        "colab_type": "text"
      },
      "source": [
        "From `matplotlib`, we can `import pyplot`. We can use `pyplot` to create or update a figure or set of axes. You can only manipulate one Figure or Axes at a time."
      ]
    },
    {
      "cell_type": "code",
      "metadata": {
        "id": "a8nwaN63S9Vk",
        "colab_type": "code",
        "colab": {}
      },
      "source": [
        "# RUN ME\n",
        "from matplotlib import pyplot as plt"
      ],
      "execution_count": 0,
      "outputs": []
    },
    {
      "cell_type": "markdown",
      "metadata": {
        "id": "W5ZlJzQ_S9Vz",
        "colab_type": "text"
      },
      "source": [
        "### The Matplotlib Object Hierarchy\n",
        "A matplotlib plot contains a series of matplotlib objects. This is shown below.\n",
        "\n",
        "![Chart](https://files.realpython.com/media/fig_map.bc8c7cabd823.png)\n",
        "\n",
        "The outermost container is the Figure. The Axes are the second outermost container. Axes in maplotlib are not what we would assume. An Axes is an individual plot or graph, so a figure could contain multiple axes. The hierarchy continues with smaller objects, such as individual lines, text boxes and legends. Below is another image showing more of the smaller matplotlib objects.\n",
        "\n",
        "![Chart: anatomy of a figure](https://files.realpython.com/media/anatomy.7d033ebbfbc8.png)"
      ]
    },
    {
      "cell_type": "markdown",
      "metadata": {
        "id": "0Gl4ezzwS9V0",
        "colab_type": "text"
      },
      "source": [
        "### Creating our first subplot\n",
        "Now we will finally apply what we've been learning! Yay! We can call the subplots function using pyplot. This is how we create make a Figure containing one Axes.\n",
        "\n"
      ]
    },
    {
      "cell_type": "code",
      "metadata": {
        "id": "GzsdEJGWS9V1",
        "colab_type": "code",
        "colab": {}
      },
      "source": [
        "# RUN ME\n",
        "hourly_temperature_dict = {\n",
        "    0: 53,\n",
        "    1: 52,\n",
        "    2: 52,\n",
        "    3: 50,\n",
        "    4: 49,\n",
        "    5: 50,\n",
        "    6: 51,\n",
        "    7: 53,\n",
        "    8: 57,\n",
        "    9: 59,\n",
        "    10: 62,\n",
        "    11: 66,\n",
        "    12: 68,\n",
        "    13: 70,\n",
        "    14: 71,\n",
        "    15: 72,\n",
        "    16: 71,\n",
        "    17: 70\n",
        "}\n",
        "\n",
        "hours = list(hourly_temperature_dict.keys())\n",
        "temperatures = list(hourly_temperature_dict.values())"
      ],
      "execution_count": 0,
      "outputs": []
    },
    {
      "cell_type": "code",
      "metadata": {
        "id": "fgrAnt4YS9V2",
        "colab_type": "code",
        "colab": {}
      },
      "source": [
        "# Run this to see how the data is represented right now\n",
        "print(hours)\n",
        "print(temperatures)"
      ],
      "execution_count": 0,
      "outputs": []
    },
    {
      "cell_type": "code",
      "metadata": {
        "id": "HBSTsw8rS9V4",
        "colab_type": "code",
        "colab": {}
      },
      "source": [
        "# Set the style of the plot. \n",
        "# There's a full list here - https://tonysyu.github.io/raw_content/matplotlib-style-gallery/gallery.html\n",
        "# Take a look and see if there's a style you like!\n",
        "\n",
        "plt.style.use('fivethirtyeight')"
      ],
      "execution_count": 0,
      "outputs": []
    },
    {
      "cell_type": "code",
      "metadata": {
        "id": "zHo0aKgwS9V5",
        "colab_type": "code",
        "colab": {}
      },
      "source": [
        "# Plot the temperature data\n",
        "plt.plot(hours, temperatures)"
      ],
      "execution_count": 0,
      "outputs": []
    },
    {
      "cell_type": "markdown",
      "metadata": {
        "id": "33fWiM8gS9V7",
        "colab_type": "text"
      },
      "source": [
        "We have a graph! However, there's definitely room for improvement here. Let's start by adding a title and labeling the axes so that our audience can interpret our data."
      ]
    },
    {
      "cell_type": "code",
      "metadata": {
        "id": "Tc18PnHSS9V8",
        "colab_type": "code",
        "colab": {}
      },
      "source": [
        "# Set the title of the graph\n",
        "plt.title(\"Fake Temperature Data, 00:00 - 17:00\")\n",
        "\n",
        "# Label the x-axis\n",
        "plt.xlabel(\"Hour\")\n",
        "\n",
        "# Label the y-axis\n",
        "plt.ylabel(\"Temperature (F)\")\n",
        "\n",
        "# Plot the temperature data\n",
        "plt.plot(hours, temperatures)"
      ],
      "execution_count": 0,
      "outputs": []
    },
    {
      "cell_type": "markdown",
      "metadata": {
        "id": "WvRP7-7VS9V9",
        "colab_type": "text"
      },
      "source": [
        "The current hour increments are a bit awkward. Let's improve our graph so that each tick on the x-axis represents one hour."
      ]
    },
    {
      "cell_type": "code",
      "metadata": {
        "id": "bwo489VMS9V-",
        "colab_type": "code",
        "colab": {}
      },
      "source": [
        "# Set the title of the graph\n",
        "plt.title(\"Fake Temperature Data, 00:00 - 17:00\")\n",
        "\n",
        "# Label the x-axis\n",
        "plt.xlabel(\"Hour\")\n",
        "\n",
        "# Label the y-axis\n",
        "plt.ylabel(\"Temperature (F)\")\n",
        "\n",
        "# Make each hour a tick on the x-axis\n",
        "plt.xticks(hours)\n",
        "\n",
        "# Plot the temperature data\n",
        "plt.plot(hours, temperatures)"
      ],
      "execution_count": 0,
      "outputs": []
    },
    {
      "cell_type": "markdown",
      "metadata": {
        "id": "2D6vQWgXS9WA",
        "colab_type": "text"
      },
      "source": [
        "Now, let's get rid of that unnecessary whitespace before x=0 and after x=17."
      ]
    },
    {
      "cell_type": "code",
      "metadata": {
        "id": "mxHRpAZeS9WB",
        "colab_type": "code",
        "colab": {}
      },
      "source": [
        "# Set the title of the graph\n",
        "plt.title(\"Fake Temperature Data, 00:00 - 17:00\")\n",
        "\n",
        "# Label the x-axis\n",
        "plt.xlabel(\"Hour\")\n",
        "\n",
        "# Label the y-axis\n",
        "plt.ylabel(\"Temperature (F)\")\n",
        "\n",
        "# Make each hour a tick on the x-axis\n",
        "plt.xticks(hours)\n",
        "\n",
        "# Adjust the graph's limits. \n",
        "# X-axis: The lower limit is 0, and the upper limit is 17\n",
        "# Y-axis: The lower limit is the smallest value in temperatures, the upper limit is the largest value in temperatures\n",
        "plt.axis([0, 17, min(temperatures), max(temperatures)])\n",
        "\n",
        "# Plot the temperature data\n",
        "plt.plot(hours, temperatures)"
      ],
      "execution_count": 0,
      "outputs": []
    },
    {
      "cell_type": "markdown",
      "metadata": {
        "id": "8MXWBT4HS9WD",
        "colab_type": "text"
      },
      "source": [
        "That's better, but now it looks like the min and max values are cut off. Let's make a slight adjustment by decreasing the lower limit by 1 and increasing the upper limit by 1."
      ]
    },
    {
      "cell_type": "code",
      "metadata": {
        "id": "V2GYVr-lS9WD",
        "colab_type": "code",
        "colab": {}
      },
      "source": [
        "# RUN ME\n",
        "\n",
        "# Set the title of the graph\n",
        "plt.title(\"Fake Temperature Data, 00:00 - 17:00\")\n",
        "\n",
        "# Label the x-axis\n",
        "plt.xlabel(\"Hour\")\n",
        "\n",
        "# Label the y-axis\n",
        "plt.ylabel(\"Temperature (F)\")\n",
        "\n",
        "# Make each hour a tick on the x-axis\n",
        "plt.xticks(hours)\n",
        "\n",
        "# Adjust the graph's limits. \n",
        "# X-axis: The lower limit is 0, and the upper limit is 17\n",
        "# Y-axis: The lower limit is the smallest value in temperatures, the upper limit is the largest value in temperatures\n",
        "plt.axis([0, 17, min(temperatures) - 1, max(temperatures) + 1])\n",
        "\n",
        "# Plot the temperature data\n",
        "plt.plot(hours, temperatures)"
      ],
      "execution_count": 0,
      "outputs": []
    },
    {
      "cell_type": "markdown",
      "metadata": {
        "id": "u4lCmwkdS9WF",
        "colab_type": "text"
      },
      "source": [
        "Let's say the list of temperatures we were using was from a given day in 2018. We are now given that day's temperatures from 2019:"
      ]
    },
    {
      "cell_type": "code",
      "metadata": {
        "id": "8p1OcLtwS9WG",
        "colab_type": "code",
        "colab": {}
      },
      "source": [
        "# RUN ME\n",
        "\n",
        "# Rename the variables for clarity/consistency\n",
        "hours2018 = hours\n",
        "temperatures2018 = temperatures\n",
        "\n",
        "hourly_temperature_dict2019 = {\n",
        "    0: 60,\n",
        "    1: 59,\n",
        "    2: 58,\n",
        "    3: 58,\n",
        "    4: 57,\n",
        "    5: 57,\n",
        "    6: 59,\n",
        "    7: 61,\n",
        "    8: 64,\n",
        "    9: 68,\n",
        "    10: 69,\n",
        "    11: 72,\n",
        "    12: 75,\n",
        "    13: 79,\n",
        "    14: 82,\n",
        "    15: 83,\n",
        "    16: 80,\n",
        "    17: 79\n",
        "}\n",
        "\n",
        "hours2019 = list(hourly_temperature_dict2019.keys())\n",
        "temperatures2019 = list(hourly_temperature_dict2019.values())"
      ],
      "execution_count": 0,
      "outputs": []
    },
    {
      "cell_type": "markdown",
      "metadata": {
        "id": "w9vc5BuIS9WI",
        "colab_type": "text"
      },
      "source": [
        "Let's add this new data to our graph as a separate line!"
      ]
    },
    {
      "cell_type": "code",
      "metadata": {
        "id": "FuHyNVQ6S9WI",
        "colab_type": "code",
        "colab": {}
      },
      "source": [
        "# Set the title of the graph\n",
        "plt.title(\"Fake Temperature Data, 00:00 - 17:00\")\n",
        "\n",
        "# Label the x-axis\n",
        "plt.xlabel(\"Hour\")\n",
        "\n",
        "# Label the y-axis\n",
        "plt.ylabel(\"Temperature (F)\")\n",
        "\n",
        "# Make each hour a tick on the x-axis\n",
        "plt.xticks(hours)\n",
        "\n",
        "# Adjust the graph's limits. \n",
        "# X-axis: The lower limit is 0, and the upper limit is 17\n",
        "# Y-axis: The lower limit is the smallest value in temperatures, the upper limit is the largest value in temperatures\n",
        "plt.axis([0, 17, min(temperatures) - 1, max(temperatures) + 1])\n",
        "\n",
        "# Plot the 2018 data\n",
        "plt.plot(hours2018, temperatures2018)\n",
        "\n",
        "# Plot the 2019 data\n",
        "plt.plot(hours2019, temperatures2019)"
      ],
      "execution_count": 0,
      "outputs": []
    },
    {
      "cell_type": "markdown",
      "metadata": {
        "id": "YjgVrq61S9WL",
        "colab_type": "text"
      },
      "source": [
        "We now have two issues with this plot. The first issue is that the 2019 data doesn't fit inside the current limit. To fix this, we have to improve our logic for determining the graph's limits.\n",
        "\n",
        "Since we now have two temperature datasets, we need to calculate the minimum and maximum temperatures across the two datasets - it's possible that the minimum temperature is in a different dataset than the maximum temperature."
      ]
    },
    {
      "cell_type": "code",
      "metadata": {
        "id": "zXW8XgZ3S9WM",
        "colab_type": "code",
        "colab": {}
      },
      "source": [
        "# Set the title of the graph\n",
        "plt.title(\"Fake Temperature Data, 00:00 - 17:00\")\n",
        "\n",
        "# Label the x-axis\n",
        "plt.xlabel(\"Hour\")\n",
        "\n",
        "# Label the y-axis\n",
        "plt.ylabel(\"Temperature (F)\")\n",
        "\n",
        "# Make each hour a tick on the x-axis\n",
        "plt.xticks(hours)\n",
        "\n",
        "# Adjust the graph's limits. \n",
        "# X-axis: The lower limit is 0, and the upper limit is 17\n",
        "# Y-axis: The lower limit is the smallest value in temperatures, the upper limit is the largest value in temperatures\n",
        "ymin = min(temperatures2018 + temperatures2019) - 1\n",
        "ymax = max(temperatures2018 + temperatures2019) + 1\n",
        "\n",
        "plt.axis([0, 17, ymin, ymax])\n",
        "\n",
        "# Plot the 2018 data\n",
        "plt.plot(hours2018, temperatures2018)\n",
        "\n",
        "# Plot the 2019 data\n",
        "plt.plot(hours2019, temperatures2019)"
      ],
      "execution_count": 0,
      "outputs": []
    },
    {
      "cell_type": "markdown",
      "metadata": {
        "id": "PAajtBOIS9WO",
        "colab_type": "text"
      },
      "source": [
        "The second issue is that now our audience doesn't know what each line represents. Let's fix that by adding a legend."
      ]
    },
    {
      "cell_type": "code",
      "metadata": {
        "id": "QSLAr-thS9WO",
        "colab_type": "code",
        "colab": {}
      },
      "source": [
        "# Set the title of the graph\n",
        "plt.title(\"Fake Temperature Data, 00:00 - 17:00\")\n",
        "\n",
        "# Label the x-axis\n",
        "plt.xlabel(\"Hour\")\n",
        "\n",
        "# Label the y-axis\n",
        "plt.ylabel(\"Temperature (F)\")\n",
        "\n",
        "# Make each hour a tick on the x-axis\n",
        "plt.xticks(hours)\n",
        "\n",
        "# Adjust the graph's limits. \n",
        "# X-axis: The lower limit is 0, and the upper limit is 17\n",
        "# Y-axis: The lower limit is the smallest value in temperatures, the upper limit is the largest value in temperatures\n",
        "ymin = min(temperatures2018 + temperatures2019) - 1\n",
        "ymax = max(temperatures2018 + temperatures2019) + 1\n",
        "\n",
        "plt.axis([0, 17, ymin, ymax])\n",
        "\n",
        "# Plot the 2018 data\n",
        "plt.plot(hours2018, temperatures2018, label=\"2018-10-02\")  # Note the new label\n",
        "\n",
        "# Plot the 2019 data\n",
        "plt.plot(hours2019, temperatures2019, label=\"2019-10-02\")  # Note the new label\n",
        "\n",
        "# Have matplotlib generate our legend\n",
        "plt.legend()"
      ],
      "execution_count": 0,
      "outputs": []
    },
    {
      "cell_type": "markdown",
      "metadata": {
        "id": "jd8bnNFSS9WR",
        "colab_type": "text"
      },
      "source": [
        "Now, let's do one last thing. Let's say we want to have a line representing the average temperature for every hour between the two datasets. First, let's write a function that takes two lists of equal length and contains the average of each pair of indices."
      ]
    },
    {
      "cell_type": "code",
      "metadata": {
        "id": "ymskyJ1iS9WS",
        "colab_type": "code",
        "colab": {}
      },
      "source": [
        "def average_list(list1: list, list2: list) -> list:\n",
        "    avg_list = []\n",
        "    \n",
        "    for i in range(len(list1)):\n",
        "        index_avg = (list1[i] + list2[i]) / 2\n",
        "        avg_list.append(index_avg)\n",
        "        \n",
        "    return avg_list\n",
        "\n",
        "# The hours for the average dataset are the same as hours2018 and hours2019, so we can just set hours_avg equal to either.\n",
        "hours_avg = hours2018\n",
        "\n",
        "# Find the average temperatures by hour\n",
        "temperatures_avg = average_list(temperatures2018, temperatures2019)\n",
        "\n",
        "print(temperatures_avg)"
      ],
      "execution_count": 0,
      "outputs": []
    },
    {
      "cell_type": "markdown",
      "metadata": {
        "id": "shoCpnKBS9WU",
        "colab_type": "text"
      },
      "source": [
        "Now that we have the average data, it's time to plot it. To emphasize that it's the average of the two datasets, let's do two things:\n",
        "1. Make the line color a combination of the two line colors (this activity uses the fivethirtyeight style by default, which has blue and red lines as the first two colors).\n",
        "\n",
        "2. Make the line a dotted line rather than a solid line."
      ]
    },
    {
      "cell_type": "code",
      "metadata": {
        "id": "Ab78Ax-VS9WV",
        "colab_type": "code",
        "colab": {}
      },
      "source": [
        "# Set the title of the graph\n",
        "plt.title(\"Fake Temperature Data, 00:00 - 17:00\")\n",
        "\n",
        "# Label the x-axis\n",
        "plt.xlabel(\"Hour\")\n",
        "\n",
        "# Label the y-axis\n",
        "plt.ylabel(\"Temperature (F)\")\n",
        "\n",
        "# Make each hour a tick on the x-axis\n",
        "plt.xticks(hours)\n",
        "\n",
        "# Adjust the graph's limits. \n",
        "# X-axis: The lower limit is 0, and the upper limit is 17\n",
        "# Y-axis: The lower limit is the smallest value in temperatures, the upper limit is the largest value in temperatures\n",
        "ymin = min(temperatures2018 + temperatures2019) - 1\n",
        "ymax = max(temperatures2018 + temperatures2019) + 1\n",
        "\n",
        "plt.axis([0, 17, ymin, ymax])\n",
        "\n",
        "# Plot the 2018 data\n",
        "plt.plot(hours2018, temperatures2018, label=\"2018-10-02\")\n",
        "\n",
        "# Plot the 2019 data\n",
        "plt.plot(hours2019, temperatures2019, label=\"2019-10-02\")\n",
        "\n",
        "# Plot the average data. \n",
        "#\n",
        "# To find a color, refer to\n",
        "#     1. https://matplotlib.org/2.0.2/api/colors_api.html for the default matplotlib colors\n",
        "#     2. https://www.google.com/search?q=color+picker for a hexadecimal color picker\n",
        "#\n",
        "# To find a linestyle, refer to https://matplotlib.org/3.1.0/gallery/lines_bars_and_markers/linestyles.html\n",
        "\n",
        "plt.plot(hours_avg, temperatures_avg, label=\"average\", color=\"#ff00ff\", linestyle='dotted')  # Note the new color and linestyle\n",
        "\n",
        "# Have matplotlib generate our legend\n",
        "plt.legend()"
      ],
      "execution_count": 0,
      "outputs": []
    }
  ]
}